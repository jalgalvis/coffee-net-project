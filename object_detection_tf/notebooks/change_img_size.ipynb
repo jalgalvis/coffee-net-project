{
 "cells": [
  {
   "cell_type": "code",
   "execution_count": 3,
   "metadata": {
    "collapsed": true
   },
   "outputs": [],
   "source": [
    "from PIL import Image\n",
    "\n",
    "for file_number in range(93,113):\n",
    "        image = Image.open(fp=f'workspace/training_demo/images/test/IMG_{file_number}.jpg')\n",
    "        new_image = image.resize((1040, 585))\n",
    "        new_image.save(fp=f'IMG_{file_number}.jpg')"
   ]
  }
 ],
 "metadata": {
  "kernelspec": {
   "display_name": "Python 3",
   "language": "python",
   "name": "python3"
  },
  "language_info": {
   "codemirror_mode": {
    "name": "ipython",
    "version": 2
   },
   "file_extension": ".py",
   "mimetype": "text/x-python",
   "name": "python",
   "nbconvert_exporter": "python",
   "pygments_lexer": "ipython2",
   "version": "2.7.6"
  }
 },
 "nbformat": 4,
 "nbformat_minor": 0
}