{
 "cells": [
  {
   "cell_type": "code",
   "execution_count": 1,
   "outputs": [],
   "source": [
    "import csv\n",
    "import os\n",
    "import cv2\n"
   ],
   "metadata": {
    "collapsed": false,
    "pycharm": {
     "name": "#%%\n"
    }
   }
  },
  {
   "cell_type": "code",
   "execution_count": 2,
   "metadata": {
    "collapsed": true,
    "pycharm": {
     "name": "#%% csv checker\n"
    }
   },
   "outputs": [
    {
     "name": "stdout",
     "output_type": "stream",
     "text": [
      "[*] Checking file: workspace/training_demo/annotations/train_labels.csv\n",
      "\n",
      "Checked 2243 files and realized 0 errors\n",
      "-----\n",
      "[*] Checking file: workspace/training_demo/annotations/test_labels.csv\n",
      "\n",
      "Checked 568 files and realized 0 errors\n",
      "-----\n"
     ]
    }
   ],
   "source": [
    "#checks if the images box position is placed within the image.\n",
    "\n",
    "#note: while this doesn't checks if the boxes/annotatoins are correctly\n",
    "# placed around the object, Tensorflow will through an error if this occured.\n",
    "\n",
    "# loops over both train_labels and test_labels csv files to do the check\n",
    "# returns the image name where an error is found\n",
    "# return the incorrect attributes; xmin, ymin, xmax, ymax.\n",
    "# if found, it should be deleted, both image and the line in the csv file\n",
    "\n",
    "images_path = 'workspace/training_demo/images'\n",
    "for CSV_FILE in ['workspace/training_demo/annotations/train_labels.csv', 'workspace/training_demo/annotations/test_labels.csv']:\n",
    "  with open(CSV_FILE, 'r') as fid:\n",
    "      print('[*] Checking file:', CSV_FILE)\n",
    "      file = csv.reader(fid, delimiter=',')\n",
    "      first = True\n",
    "      cnt = 0\n",
    "      error_cnt = 0\n",
    "      error = False\n",
    "      for row in file:\n",
    "          if error == True:\n",
    "              error_cnt += 1\n",
    "              error = False\n",
    "          if first == True:\n",
    "              first = False\n",
    "              continue\n",
    "          cnt += 1\n",
    "          name, width, height, xmin, ymin, xmax, ymax = row[0], int(row[1]), int(row[2]), int(row[4]), int(row[5]), int(row[6]), int(row[7])\n",
    "          path = os.path.join(images_path, name)\n",
    "          img = cv2.imread(path)\n",
    "          if type(img) == type(None):\n",
    "              error = True\n",
    "              print('Could not read image', img)\n",
    "              continue\n",
    "          org_height, org_width = img.shape[:2]\n",
    "          if org_width != width:\n",
    "              error = True\n",
    "              print('Width mismatch for image: ', name, width, '!=', org_width)\n",
    "          if org_height != height:\n",
    "              error = True\n",
    "              print('Height mismatch for image: ', name, height, '!=', org_height)\n",
    "          if xmin > org_width:\n",
    "              error = True\n",
    "              print('XMIN > org_width for file', name)\n",
    "          if xmax > org_width:\n",
    "              error = True\n",
    "              print('XMAX > org_width for file', name)\n",
    "          if ymin > org_height:\n",
    "              error = True\n",
    "              print('YMIN > org_height for file', name)\n",
    "          if ymax > org_height:\n",
    "              error = True\n",
    "              print('YMAX > org_height for file', name)\n",
    "          if error == True:\n",
    "              print('Error for file: %s' % name)\n",
    "              print()\n",
    "      print()\n",
    "      print('Checked %d files and realized %d errors' % (cnt, error_cnt))\n",
    "      print(\"-----\")"
   ]
  },
  {
   "cell_type": "code",
   "execution_count": null,
   "outputs": [],
   "source": [],
   "metadata": {
    "collapsed": false,
    "pycharm": {
     "name": "#%%\n"
    }
   }
  }
 ],
 "metadata": {
  "kernelspec": {
   "display_name": "Python 3",
   "language": "python",
   "name": "python3"
  },
  "language_info": {
   "codemirror_mode": {
    "name": "ipython",
    "version": 2
   },
   "file_extension": ".py",
   "mimetype": "text/x-python",
   "name": "python",
   "nbconvert_exporter": "python",
   "pygments_lexer": "ipython2",
   "version": "2.7.6"
  }
 },
 "nbformat": 4,
 "nbformat_minor": 0
}