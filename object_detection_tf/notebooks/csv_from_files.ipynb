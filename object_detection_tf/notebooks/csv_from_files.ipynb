{
 "cells": [
  {
   "cell_type": "code",
   "execution_count": 4,
   "metadata": {
    "collapsed": true
   },
   "outputs": [],
   "source": [
    "import numpy as np\n",
    "import pandas as pd\n",
    "from PIL import Image"
   ]
  },
  {
   "cell_type": "code",
   "execution_count": 5,
   "outputs": [],
   "source": [
    "def create_csvfile_from_boxes_and_labels_files(directory,from_file_number,to_file_number):\n",
    "    \"\"\"\n",
    "    Create arrays from stored enumerated files\n",
    "\n",
    "    :param directory: directory where files are located\n",
    "    :param image_height: height of the images\n",
    "    :param image_width: width of the images\n",
    "    :return:\n",
    "        images: list of arrays of images shape (# of images, height, width, 3)\n",
    "        boxes: list of arrays of boxes locations shape (None,4)\n",
    "        labels: list of arrays\n",
    "    \"\"\"\n",
    "    class_names = {0:'bad', 1:'good'}\n",
    "    csv_file = np.empty((0,8))\n",
    "\n",
    "\n",
    "    for file_number in range(from_file_number,to_file_number + 1):\n",
    "        img_filename = f'IMG_{file_number}.jpg'\n",
    "        filepath = directory + img_filename\n",
    "        image = Image.open(fp=filepath)\n",
    "        image_width, image_height = image.size\n",
    "        box = np.loadtxt(fname=directory + f'BOX_{file_number}.csv', delimiter=',',dtype=np.float32)\n",
    "        label = np.loadtxt(fname=directory + f'LABEL_{file_number}.csv', delimiter=',', dtype=np.int32)\n",
    "        labels = [class_names[x] for x in label]\n",
    "\n",
    "        img_info = np.empty((box.shape[0], 8), dtype='S11')\n",
    "        img_info[:,0] = f'IMG_{file_number}.jpg'\n",
    "        img_info[:,1] = str(image_width)\n",
    "        img_info[:,2] = str(image_height)\n",
    "        img_info[:,3] = labels\n",
    "        img_info[:,4] = ((box[:,1] * image_width).astype(int)).astype(str)\n",
    "        img_info[:,5] = ((box[:,0] * image_height).astype(int)).astype(str)\n",
    "        img_info[:,6] = ((box[:,3] * image_width).astype(int)).astype(str)\n",
    "        img_info[:,7] = ((box[:,2] * image_height).astype(int)).astype(str)\n",
    "        csv_file = np.vstack((csv_file, img_info))\n",
    "\n",
    "        print(f'sample {file_number} uploaded\\r', end=\"\")\n",
    "\n",
    "    csv_file = pd.DataFrame(csv_file, dtype=str, columns=['filename', 'width', 'height', 'class', 'xmin', 'ymin', 'xmax', 'ymax'])\n",
    "\n",
    "    return csv_file"
   ],
   "metadata": {
    "collapsed": false,
    "pycharm": {
     "name": "#%%\n"
    }
   }
  },
  {
   "cell_type": "code",
   "execution_count": 6,
   "outputs": [
    {
     "name": "stdout",
     "output_type": "stream",
     "text": [
      "sample 111 uploaded\r"
     ]
    }
   ],
   "source": [
    "csv_file = create_csvfile_from_boxes_and_labels_files(directory='workspace/training_demo/images/test/', from_file_number=93, to_file_number=111)\n",
    "csv_file = csv_file.to_csv('workspace/training_demo/annotations/test_labels.csv',index=False)"
   ],
   "metadata": {
    "collapsed": false,
    "pycharm": {
     "name": "#%%\n"
    }
   }
  }
 ],
 "metadata": {
  "kernelspec": {
   "display_name": "Python 3",
   "language": "python",
   "name": "python3"
  },
  "language_info": {
   "codemirror_mode": {
    "name": "ipython",
    "version": 2
   },
   "file_extension": ".py",
   "mimetype": "text/x-python",
   "name": "python",
   "nbconvert_exporter": "python",
   "pygments_lexer": "ipython2",
   "version": "2.7.6"
  }
 },
 "nbformat": 4,
 "nbformat_minor": 0
}